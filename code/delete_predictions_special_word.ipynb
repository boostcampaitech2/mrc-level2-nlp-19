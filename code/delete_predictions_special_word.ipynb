{
 "cells": [
  {
   "cell_type": "code",
   "execution_count": null,
   "id": "dce42e74-b323-4900-a3c5-1b00378a6c5a",
   "metadata": {},
   "outputs": [],
   "source": [
    "import os\n",
    "import json\n",
    "\n",
    "data_path = \"/opt/ml/code/outputs/test_dataset\"\n",
    "context_path = \"predictions.json\"\n",
    "with open(os.path.join(data_path, context_path), \"r\", encoding=\"utf-8\") as f:\n",
    "    json_data = json.load(f)\n",
    "\n",
    "predictions = list(\n",
    "    dict.fromkeys([v for v in json_data.values()])\n",
    ")  # set 은 매번 순서가 바뀌므로\n",
    "predictions"
   ]
  },
  {
   "cell_type": "code",
   "execution_count": null,
   "id": "63c060f1-0645-4ba8-a181-5a69d3d57c63",
   "metadata": {},
   "outputs": [],
   "source": [
    "# 앞 뒤 공백 제거\n",
    "for pred in predictions:\n",
    "    pred.strip()\n",
    "    \n",
    "print(predictions)"
   ]
  },
  {
   "cell_type": "code",
   "execution_count": null,
   "id": "15f0e9de-beb0-46ac-9378-fdc0fc0c4edb",
   "metadata": {},
   "outputs": [],
   "source": [
    "special_char = '\\“\\”\\‘\\’\"\\'\\〈\\〉\\<\\>\\＜\\＞\\「\\」\\≪\\≫\\《\\》\\『\\』'\n",
    "\n",
    "for p in range(len(predictions)):\n",
    "    for c in special_char:\n",
    "        if c in predictions[p]:\n",
    "            print(predictions[p].find(c), c)\n",
    "            predictions[p] = predictions[p].replace(c, '')\n",
    "\n",
    "print(predictions)"
   ]
  },
  {
   "cell_type": "code",
   "execution_count": null,
   "id": "0a3ee645-b02e-4078-9625-ac5a33afe372",
   "metadata": {},
   "outputs": [],
   "source": [
    "import re\n",
    "regex = '^\\(.\\)$'\n",
    "\n",
    "for p in range(len(predictions)):\n",
    "    items = re.findall('\\(([^)]+)', predictions[p])\n",
    "    \n",
    "    # 괄호가 있으면 괄호 속 내용 삭제\n",
    "    if items:\n",
    "        print(items)\n",
    "        item = items[0]\n",
    "        predictions[p] = predictions[p].replace(item, '')\n",
    "        print(predictions[p])"
   ]
  },
  {
   "cell_type": "code",
   "execution_count": null,
   "id": "f0799c59-33ba-4972-8b2b-fc5367ae209e",
   "metadata": {},
   "outputs": [],
   "source": [
    "# 괄호 삭제\n",
    "special_char = '\\(/)'\n",
    "\n",
    "for p in range(len(predictions)):\n",
    "    for c in special_char:\n",
    "        if c in predictions[p]:\n",
    "            print(predictions[p].find(c), c)\n",
    "            predictions[p] = predictions[p].replace(c, '')\n",
    "\n",
    "print(predictions)"
   ]
  },
  {
   "cell_type": "code",
   "execution_count": null,
   "id": "4b80af32-675e-478b-b52d-30f098a1e91f",
   "metadata": {},
   "outputs": [],
   "source": [
    "# 앞 뒤 공백 제거\n",
    "for pred in predictions:\n",
    "    pred.strip()\n",
    "    \n",
    "print(predictions)"
   ]
  },
  {
   "cell_type": "code",
   "execution_count": null,
   "id": "1f247bd7-3d5e-4f83-b270-7bc3523a352a",
   "metadata": {},
   "outputs": [],
   "source": [
    "for i, key in enumerate(json_data.keys()):\n",
    "    if i < len(predictions):\n",
    "        json_data[key] = predictions[i]\n",
    "        \n",
    "print(json_data)"
   ]
  },
  {
   "cell_type": "code",
   "execution_count": null,
   "id": "909a5fc3-aee9-4369-a2de-77812c9be7a6",
   "metadata": {},
   "outputs": [],
   "source": [
    "with open(os.path.join(data_path, context_path), 'w', encoding='utf-8') as f:\n",
    "    json.dump(json_data, f, indent=\"\\t\", ensure_ascii=False)\n",
    "    \n",
    "with open(os.path.join(data_path, context_path), \"r\", encoding=\"utf-8\") as f:\n",
    "    json_data = json.load(f)\n",
    "    \n",
    "print(json_data)"
   ]
  },
  {
   "cell_type": "code",
   "execution_count": null,
   "id": "926e0610-f298-455f-a537-f7b70fde5054",
   "metadata": {},
   "outputs": [],
   "source": [
    "import os\n",
    "import json\n",
    "\n",
    "data_path = \"/opt/ml/code/outputs/test_dataset\"\n",
    "context_path = \"predictions.json\"\n",
    "with open(os.path.join(data_path, context_path), \"r\", encoding=\"utf-8\") as f:\n",
    "    json_data = json.load(f)\n",
    "\n",
    "predictions = list(\n",
    "    dict.fromkeys([v for v in json_data.values()])\n",
    ")  # set 은 매번 순서가 바뀌므로\n",
    "predictions"
   ]
  },
  {
   "cell_type": "code",
   "execution_count": null,
   "id": "5fc03dc6-c204-4641-b3db-6ba4fe95253e",
   "metadata": {},
   "outputs": [],
   "source": []
  }
 ],
 "metadata": {
  "kernelspec": {
   "display_name": "Python 3 (ipykernel)",
   "language": "python",
   "name": "python3"
  },
  "language_info": {
   "codemirror_mode": {
    "name": "ipython",
    "version": 3
   },
   "file_extension": ".py",
   "mimetype": "text/x-python",
   "name": "python",
   "nbconvert_exporter": "python",
   "pygments_lexer": "ipython3",
   "version": "3.8.5"
  }
 },
 "nbformat": 4,
 "nbformat_minor": 5
}
